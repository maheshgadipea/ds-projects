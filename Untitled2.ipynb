{
 "cells": [
  {
   "cell_type": "code",
   "execution_count": 2,
   "id": "ebcadff4-6824-423b-8cc5-d4e3eba5712a",
   "metadata": {},
   "outputs": [
    {
     "name": "stdout",
     "output_type": "stream",
     "text": [
      "Requirement already up-to-date: mxnet in /opt/conda/lib/python3.6/site-packages (1.9.0)\n",
      "Requirement already satisfied, skipping upgrade: requests<3,>=2.20.0 in /opt/conda/lib/python3.6/site-packages (from mxnet) (2.22.0)\n",
      "Requirement already satisfied, skipping upgrade: numpy<2.0.0,>1.16.0 in /opt/conda/lib/python3.6/site-packages (from mxnet) (1.19.5)\n",
      "Requirement already satisfied, skipping upgrade: graphviz<0.9.0,>=0.8.1 in /opt/conda/lib/python3.6/site-packages (from mxnet) (0.8.4)\n",
      "Requirement already satisfied, skipping upgrade: idna<2.9,>=2.5 in /opt/conda/lib/python3.6/site-packages (from requests<3,>=2.20.0->mxnet) (2.8)\n",
      "Requirement already satisfied, skipping upgrade: certifi>=2017.4.17 in /opt/conda/lib/python3.6/site-packages (from requests<3,>=2.20.0->mxnet) (2021.5.30)\n",
      "Requirement already satisfied, skipping upgrade: urllib3!=1.25.0,!=1.25.1,<1.26,>=1.21.1 in /opt/conda/lib/python3.6/site-packages (from requests<3,>=2.20.0->mxnet) (1.25.11)\n",
      "Requirement already satisfied, skipping upgrade: chardet<3.1.0,>=3.0.2 in /opt/conda/lib/python3.6/site-packages (from requests<3,>=2.20.0->mxnet) (3.0.4)\n",
      "\u001b[33mWARNING: You are using pip version 19.3.1; however, version 21.3.1 is available.\n",
      "You should consider upgrading via the 'pip install --upgrade pip' command.\u001b[0m\n"
     ]
    }
   ],
   "source": [
    "!pip install --upgrade mxnet"
   ]
  },
  {
   "cell_type": "code",
   "execution_count": null,
   "id": "c86a2287-2c0d-4ce9-b522-cae9cf706a49",
   "metadata": {},
   "outputs": [
    {
     "name": "stdout",
     "output_type": "stream",
     "text": [
      "Collecting autogluon==0.0.12\n",
      "\u001b[?25l  Downloading https://files.pythonhosted.org/packages/fc/da/7bbe33ed3cfa7321fca18c2545e5954e9ed9ce5beead76af49cbf1fe23c6/autogluon-0.0.12-py3-none-any.whl (515kB)\n",
      "\u001b[K     |████████████████████████████████| 522kB 21.9MB/s eta 0:00:01\n",
      "\u001b[?25hCollecting paramiko>=2.4\n",
      "\u001b[?25l  Downloading https://files.pythonhosted.org/packages/be/6f/f0ec5f5fb00d270ebd80946be561795c67468473eb495222794cae285d40/paramiko-2.10.3-py2.py3-none-any.whl (211kB)\n",
      "\u001b[K     |████████████████████████████████| 215kB 80.9MB/s eta 0:00:01\n",
      "\u001b[?25hCollecting ConfigSpace<=0.4.10\n",
      "\u001b[?25l  Downloading https://files.pythonhosted.org/packages/42/de/4e8e4f26332fc65404f52baa112defbf822b6738b60bfa6b2993f5c60933/ConfigSpace-0.4.10.tar.gz (882kB)\n",
      "\u001b[K     |████████████████████████████████| 890kB 65.2MB/s eta 0:00:01\n",
      "\u001b[?25hCollecting Pillow<=6.2.1\n",
      "\u001b[?25l  Downloading https://files.pythonhosted.org/packages/10/5c/0e94e689de2476c4c5e644a3bd223a1c1b9e2bdb7c510191750be74fa786/Pillow-6.2.1-cp36-cp36m-manylinux1_x86_64.whl (2.1MB)\n",
      "\u001b[K     |████████████████████████████████| 2.1MB 38.7MB/s eta 0:00:01\n",
      "\u001b[?25hRequirement already satisfied: tornado>=5.0.1 in /opt/conda/lib/python3.6/site-packages (from autogluon==0.0.12) (6.1)\n",
      "Requirement already satisfied: pytest in /opt/conda/lib/python3.6/site-packages (from autogluon==0.0.12) (5.4.1)\n",
      "Requirement already satisfied: cryptography>=2.8 in /opt/conda/lib/python3.6/site-packages (from autogluon==0.0.12) (3.4.7)\n",
      "Collecting scikit-optimize\n",
      "\u001b[?25l  Downloading https://files.pythonhosted.org/packages/55/f6/2d9efbd86126c40fe0f8a47611a9e2480b493b6f0ce9751bdf0240cfa091/scikit_optimize-0.9.0-py2.py3-none-any.whl (100kB)\n",
      "\u001b[K     |████████████████████████████████| 102kB 21.1MB/s ta 0:00:01\n",
      "\u001b[?25hCollecting lightgbm<3.0,>=2.3.0\n",
      "\u001b[?25l  Downloading https://files.pythonhosted.org/packages/0b/9d/ddcb2f43aca194987f1a99e27edf41cf9bc39ea750c3371c2a62698c509a/lightgbm-2.3.1-py2.py3-none-manylinux1_x86_64.whl (1.2MB)\n",
      "\u001b[K     |████████████████████████████████| 1.2MB 50.0MB/s eta 0:00:01\n",
      "\u001b[?25hCollecting boto3\n",
      "\u001b[?25l  Downloading https://files.pythonhosted.org/packages/fd/af/4f0964cce5bb9f69ae2b23f1cf324fe9dab7667dc49eaf661d2401e9bbb5/boto3-1.21.42-py3-none-any.whl (132kB)\n",
      "\u001b[K     |████████████████████████████████| 133kB 71.9MB/s eta 0:00:01\n",
      "\u001b[?25hCollecting scikit-learn<0.23,>=0.22.0\n",
      "\u001b[?25l  Downloading https://files.pythonhosted.org/packages/5e/d8/312e03adf4c78663e17d802fe2440072376fee46cada1404f1727ed77a32/scikit_learn-0.22.2.post1-cp36-cp36m-manylinux1_x86_64.whl (7.1MB)\n",
      "\u001b[K     |████████████████████████████████| 7.1MB 35.9MB/s eta 0:00:01\n",
      "\u001b[?25hRequirement already satisfied: tqdm>=4.38.0 in /opt/conda/lib/python3.6/site-packages (from autogluon==0.0.12) (4.62.2)\n",
      "Requirement already satisfied: numpy>=1.16.0 in /opt/conda/lib/python3.6/site-packages (from autogluon==0.0.12) (1.19.5)\n",
      "Requirement already satisfied: scipy>=1.3.3 in /opt/conda/lib/python3.6/site-packages (from autogluon==0.0.12) (1.5.4)\n",
      "Collecting distributed>=2.6.0\n",
      "\u001b[?25l  Downloading https://files.pythonhosted.org/packages/96/b7/f58dd1e30f940a8b38de10f5d92b2fce08f38dcba3eb1ddb017260588ed4/distributed-2021.3.0-py3-none-any.whl (675kB)\n",
      "\u001b[K     |████████████████████████████████| 675kB 71.9MB/s eta 0:00:01\n",
      "\u001b[?25hCollecting catboost<0.24\n",
      "\u001b[?25l  Downloading https://files.pythonhosted.org/packages/b2/aa/e61819d04ef2bbee778bf4b3a748db1f3ad23512377e43ecfdc3211437a0/catboost-0.23.2-cp36-none-manylinux1_x86_64.whl (64.8MB)\n",
      "\u001b[K     |████████████████████████████████| 64.8MB 62.9MB/s eta 0:00:01\n",
      "\u001b[?25hRequirement already satisfied: requests in /opt/conda/lib/python3.6/site-packages (from autogluon==0.0.12) (2.22.0)\n",
      "Collecting cython\n",
      "  Using cached https://files.pythonhosted.org/packages/1e/d9/2899f6bdfd3f2909cbd5ee7a06bf222c33842a80ba32e7c1fb61013aa376/Cython-0.29.28-cp36-cp36m-manylinux_2_17_x86_64.manylinux2014_x86_64.manylinux_2_24_x86_64.whl\n",
      "Collecting gluoncv<1.0,>=0.5.0\n",
      "\u001b[?25l  Downloading https://files.pythonhosted.org/packages/63/d1/cd268d642705ebac4a0e20c5a80b284d8264b66f7badbe5e1702b6970b8b/gluoncv-0.10.5-py2.py3-none-any.whl (1.3MB)\n",
      "\u001b[K     |████████████████████████████████| 1.3MB 72.5MB/s eta 0:00:01\n",
      "\u001b[?25hRequirement already satisfied: matplotlib in /opt/conda/lib/python3.6/site-packages (from autogluon==0.0.12) (3.1.1)\n",
      "Collecting openml\n",
      "\u001b[?25l  Downloading https://files.pythonhosted.org/packages/e3/bb/7b96322bd10cf1c44bf0f701e08837f21f1f71099dab43a5c56d82e17db2/openml-0.12.2.tar.gz (119kB)\n",
      "\u001b[K     |████████████████████████████████| 122kB 73.1MB/s eta 0:00:01\n",
      "\u001b[?25hRequirement already satisfied: networkx<3.0,>=2.3 in /opt/conda/lib/python3.6/site-packages (from autogluon==0.0.12) (2.4)\n",
      "Collecting pandas<1.0,>=0.24.0\n",
      "\u001b[?25l  Downloading https://files.pythonhosted.org/packages/52/3f/f6a428599e0d4497e1595030965b5ba455fd8ade6e977e3c819973c4b41d/pandas-0.25.3-cp36-cp36m-manylinux1_x86_64.whl (10.4MB)\n",
      "\u001b[K     |████████████████████████████████| 10.4MB 62.3MB/s eta 0:00:01\n",
      "\u001b[?25hRequirement already satisfied: dask>=2.6.0 in /opt/conda/lib/python3.6/site-packages (from autogluon==0.0.12) (2021.3.0)\n",
      "Collecting psutil>=5.0.0\n",
      "\u001b[?25l  Downloading https://files.pythonhosted.org/packages/64/87/461555057b080e1996427098a6c51c64a8a9025ec18571dabfe5be07eeec/psutil-5.9.0-cp36-cp36m-manylinux_2_12_x86_64.manylinux2010_x86_64.manylinux_2_17_x86_64.manylinux2014_x86_64.whl (279kB)\n",
      "\u001b[K     |████████████████████████████████| 286kB 68.7MB/s eta 0:00:01\n",
      "\u001b[?25hRequirement already satisfied: graphviz in /opt/conda/lib/python3.6/site-packages (from autogluon==0.0.12) (0.8.4)\n",
      "Collecting pynacl>=1.0.1\n"
     ]
    }
   ],
   "source": [
    "!pip install --user autogluon==0.0.12"
   ]
  },
  {
   "cell_type": "code",
   "execution_count": null,
   "id": "1bd8fe98-355d-4c93-a358-dd1721bdf3ea",
   "metadata": {},
   "outputs": [],
   "source": []
  }
 ],
 "metadata": {
  "kernelspec": {
   "display_name": "Python 3",
   "language": "python",
   "name": "python3"
  },
  "language_info": {
   "codemirror_mode": {
    "name": "ipython",
    "version": 3
   },
   "file_extension": ".py",
   "mimetype": "text/x-python",
   "name": "python",
   "nbconvert_exporter": "python",
   "pygments_lexer": "ipython3",
   "version": "3.6.13"
  }
 },
 "nbformat": 4,
 "nbformat_minor": 5
}
