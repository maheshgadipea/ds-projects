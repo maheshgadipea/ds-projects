{
 "cells": [
  {
   "cell_type": "markdown",
   "id": "b64f2458-2c51-455e-b398-03aecb28cb70",
   "metadata": {},
   "source": [
    "### Importing Libraries"
   ]
  },
  {
   "cell_type": "code",
   "execution_count": 13,
   "id": "40251a21-9402-4c78-bc1c-31a81c03f5f0",
   "metadata": {},
   "outputs": [],
   "source": [
    "import pandas as pd\n",
    "import os"
   ]
  },
  {
   "cell_type": "code",
   "execution_count": 16,
   "id": "902a7914-ead7-400d-96c3-646adac9b153",
   "metadata": {},
   "outputs": [],
   "source": []
  },
  {
   "cell_type": "code",
   "execution_count": null,
   "id": "63fb8f14-96bf-4c2b-9a4a-dde95b2edb45",
   "metadata": {},
   "outputs": [],
   "source": [
    "data = pd.read_csv(\"Firwall_info_log2.csv\")"
   ]
  }
 ],
 "metadata": {
  "kernelspec": {
   "display_name": "Python 3",
   "language": "python",
   "name": "python3"
  },
  "language_info": {
   "codemirror_mode": {
    "name": "ipython",
    "version": 3
   },
   "file_extension": ".py",
   "mimetype": "text/x-python",
   "name": "python",
   "nbconvert_exporter": "python",
   "pygments_lexer": "ipython3",
   "version": "3.6.13"
  }
 },
 "nbformat": 4,
 "nbformat_minor": 5
}
