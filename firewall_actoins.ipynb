{
 "cells": [
  {
   "cell_type": "markdown",
   "id": "b64f2458-2c51-455e-b398-03aecb28cb70",
   "metadata": {},
   "source": [
    "### Importing Libraries"
   ]
  },
  {
   "cell_type": "code",
   "execution_count": 24,
   "id": "40251a21-9402-4c78-bc1c-31a81c03f5f0",
   "metadata": {},
   "outputs": [
    {
     "name": "stderr",
     "output_type": "stream",
     "text": [
      "Matplotlib is building the font cache using fc-list. This may take a moment.\n"
     ]
    }
   ],
   "source": [
    "import pandas as pd\n",
    "import os\n",
    "from sklearn.model_selection import GridSearchCV\n",
    "import matplotlib.pyplott as plt"
   ]
  },
  {
   "cell_type": "markdown",
   "id": "e99ade52-4f86-4013-9e29-a3648de5ef5f",
   "metadata": {},
   "source": [
    "### Data Analysis and Preparation"
   ]
  },
  {
   "cell_type": "code",
   "execution_count": 18,
   "id": "63fb8f14-96bf-4c2b-9a4a-dde95b2edb45",
   "metadata": {},
   "outputs": [],
   "source": [
    "data = pd.read_csv(\"Firwall_info_log2.csv\")"
   ]
  },
  {
   "cell_type": "code",
   "execution_count": 22,
   "id": "44330c1e-f1bd-44b5-b9e7-06d026c3968a",
   "metadata": {},
   "outputs": [
    {
     "data": {
      "text/plain": [
       "Source Port             0\n",
       "Destination Port        0\n",
       "NAT Source Port         0\n",
       "NAT Destination Port    0\n",
       "Action                  0\n",
       "Bytes                   0\n",
       "Bytes Sent              0\n",
       "Bytes Received          0\n",
       "Packets                 0\n",
       "Elapsed Time (sec)      0\n",
       "pkts_sent               0\n",
       "pkts_received           0\n",
       "dtype: int64"
      ]
     },
     "execution_count": 22,
     "metadata": {},
     "output_type": "execute_result"
    }
   ],
   "source": [
    "data.isnull().sum()"
   ]
  },
  {
   "cell_type": "code",
   "execution_count": null,
   "id": "5b1474f5-e139-4df5-9fea-f03f4b2fd0b3",
   "metadata": {},
   "outputs": [],
   "source": []
  }
 ],
 "metadata": {
  "kernelspec": {
   "display_name": "Python 3",
   "language": "python",
   "name": "python3"
  },
  "language_info": {
   "codemirror_mode": {
    "name": "ipython",
    "version": 3
   },
   "file_extension": ".py",
   "mimetype": "text/x-python",
   "name": "python",
   "nbconvert_exporter": "python",
   "pygments_lexer": "ipython3",
   "version": "3.6.13"
  }
 },
 "nbformat": 4,
 "nbformat_minor": 5
}
