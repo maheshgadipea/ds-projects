{
 "cells": [
  {
   "cell_type": "code",
   "execution_count": null,
   "id": "ec83fa3e",
   "metadata": {},
   "outputs": [],
   "source": [
    "session = Session.builder.configs(connection_params).create()"
   ]
  },
  {
   "cell_type": "code",
   "execution_count": null,
   "id": "37f8de28",
   "metadata": {},
   "outputs": [],
   "source": [
    "# Take a look at parser object member names before running\n",
    "connection_params = dict(user=parser['Credentials']['user'], password=parser['Credentials']['password'], account=parser['Credentials']['account'], warehouse=parser['Credentials']['warehouse'], database=parser['Credentials']['database'], schema=parser['Credentials']['schema'], role=parser['Credentials']['role'])"
   ]
  },
  {
   "cell_type": "code",
   "execution_count": null,
   "id": "b3bae0a5",
   "metadata": {},
   "outputs": [],
   "source": [
    "# snowpark helper function\n",
    "from snowflake.snowpark import functions\n",
    "from snowflake.snowpark.types import *\n",
    "# udf function to register functions\n",
    "from snowflake.snowpark.functions import udf\n",
    "# Session object to create connection to snowflake env\n",
    "from snowflake.snowpark.session import Session\n",
    "# Function used to register stored procedure\n",
    "from snowflake.snowpark.functions import sproc\n",
    "# functions used to predict\n",
    "from snowflake.snowpark.functions import call_udf, array_construct, col\n",
    "# used to import credentials\n",
    "import configparser\n",
    "parser = configparser.ConfigParser()\n",
    "# Add the credential file name here\n",
    "parser.read(<file name>)"
   ]
  },
  {
   "cell_type": "code",
   "execution_count": 7,
   "id": "b0de8365-c50c-473e-a207-cb522d6e068a",
   "metadata": {},
   "outputs": [],
   "source": [
    "from tpot import TPOTRegressor"
   ]
  },
  {
   "cell_type": "code",
   "execution_count": 9,
   "id": "de1de0da-49aa-48c6-9b9c-93674a743641",
   "metadata": {},
   "outputs": [],
   "source": [
    "from tpot import TPOTClassifier"
   ]
  },
  {
   "cell_type": "code",
   "execution_count": 25,
   "id": "e491c06e-7cd7-4690-8b68-5771a8dae63c",
   "metadata": {},
   "outputs": [
    {
     "data": {
      "text/plain": [
       "['__class__',\n",
       " '__delattr__',\n",
       " '__dict__',\n",
       " '__dir__',\n",
       " '__doc__',\n",
       " '__eq__',\n",
       " '__format__',\n",
       " '__ge__',\n",
       " '__getattribute__',\n",
       " '__getstate__',\n",
       " '__gt__',\n",
       " '__hash__',\n",
       " '__init__',\n",
       " '__init_subclass__',\n",
       " '__le__',\n",
       " '__lt__',\n",
       " '__module__',\n",
       " '__ne__',\n",
       " '__new__',\n",
       " '__reduce__',\n",
       " '__reduce_ex__',\n",
       " '__repr__',\n",
       " '__setattr__',\n",
       " '__setstate__',\n",
       " '__sizeof__',\n",
       " '__str__',\n",
       " '__subclasshook__',\n",
       " '__weakref__',\n",
       " '_add_operators',\n",
       " '_add_terminals',\n",
       " '_check_dataset',\n",
       " '_check_n_features',\n",
       " '_check_periodic_pipeline',\n",
       " '_cleanup_memory',\n",
       " '_combine_individual_stats',\n",
       " '_compile_to_sklearn',\n",
       " '_create_periodic_checkpoint_folder',\n",
       " '_evaluate_individuals',\n",
       " '_fit_init',\n",
       " '_gen_grow_safe',\n",
       " '_generate',\n",
       " '_get_make_pipeline_func',\n",
       " '_get_param_names',\n",
       " '_get_tags',\n",
       " '_import_hash',\n",
       " '_import_hash_and_add_terminals',\n",
       " '_impute_values',\n",
       " '_init_pretest',\n",
       " '_mate_operator',\n",
       " '_more_tags',\n",
       " '_operator_count',\n",
       " '_preprocess_individuals',\n",
       " '_random_mutation_operator',\n",
       " '_read_config_file',\n",
       " '_repr_html_',\n",
       " '_repr_html_inner',\n",
       " '_repr_mimebundle_',\n",
       " '_save_periodic_pipeline',\n",
       " '_setup_config',\n",
       " '_setup_memory',\n",
       " '_setup_pset',\n",
       " '_setup_scoring_function',\n",
       " '_setup_template',\n",
       " '_setup_toolbox',\n",
       " '_stop_by_max_time_mins',\n",
       " '_summary_of_best_pipeline',\n",
       " '_update_evaluated_individuals_',\n",
       " '_update_pbar',\n",
       " '_update_top_pipeline',\n",
       " '_update_val',\n",
       " '_validate_data',\n",
       " 'classification',\n",
       " 'clean_pipeline_string',\n",
       " 'default_config_dict',\n",
       " 'export',\n",
       " 'fit',\n",
       " 'fit_predict',\n",
       " 'get_params',\n",
       " 'predict',\n",
       " 'predict_proba',\n",
       " 'regression',\n",
       " 'score',\n",
       " 'scoring_function',\n",
       " 'set_params']"
      ]
     },
     "execution_count": 25,
     "metadata": {},
     "output_type": "execute_result"
    }
   ],
   "source": [
    "dir(TPOTClassifier)"
   ]
  },
  {
   "cell_type": "code",
   "execution_count": null,
   "id": "768a0f50-1679-4365-8ae0-863d3343d247",
   "metadata": {},
   "outputs": [],
   "source": []
  }
 ],
 "metadata": {
  "kernelspec": {
   "display_name": "Python 3 (ipykernel)",
   "language": "python",
   "name": "python3"
  },
  "language_info": {
   "codemirror_mode": {
    "name": "ipython",
    "version": 3
   },
   "file_extension": ".py",
   "mimetype": "text/x-python",
   "name": "python",
   "nbconvert_exporter": "python",
   "pygments_lexer": "ipython3",
   "version": "3.8.13"
  }
 },
 "nbformat": 4,
 "nbformat_minor": 5
}
